{
 "cells": [
  {
   "cell_type": "markdown",
   "id": "21b6cec2",
   "metadata": {},
   "source": [
    "![](https://miro.medium.com/max/640/1*HLQgkMt5-g5WO5VpNuTl_g.webp)\n",
    "\n",
    "* Stemming is definitely the simpler of the two approaches. With stemming, words are reduced to their word stems. A word stem need not be the same root as a dictionary-based morphological root, it just is an equal to or smaller form of the word.\n",
    "\n",
    "* When you are breaking down words with stemming, you can sometimes see that finding roots is erroneous and absurd. Because Stemming works rule-based, it cuts the suffixes in words according to a certain rule. This reveals inconsistencies regarding stemming. Overstemming and understemming.\n",
    "\n",
    "* Overstemming occurs when words are over-truncated. In such cases, the meaning of the word may be distorted or have no meaning.\n",
    "\n",
    "* Understemming occurs when two words are stemmed from the same root that is not of different stems."
   ]
  },
  {
   "cell_type": "markdown",
   "id": "c66ba75b",
   "metadata": {},
   "source": [
    "# Porter Stemmer"
   ]
  },
  {
   "cell_type": "code",
   "execution_count": 1,
   "id": "35321bc3",
   "metadata": {},
   "outputs": [],
   "source": [
    "from nltk.stem import PorterStemmer"
   ]
  },
  {
   "cell_type": "code",
   "execution_count": 2,
   "id": "891ab605",
   "metadata": {},
   "outputs": [
    {
     "data": {
      "text/plain": [
       "'civil'"
      ]
     },
     "execution_count": 2,
     "metadata": {},
     "output_type": "execute_result"
    }
   ],
   "source": [
    "ps = PorterStemmer()\n",
    "word = (\"civilization\")\n",
    "ps.stem(word)"
   ]
  },
  {
   "cell_type": "markdown",
   "id": "794884e6",
   "metadata": {},
   "source": [
    "# Snowball Stemmer"
   ]
  },
  {
   "cell_type": "code",
   "execution_count": 3,
   "id": "ba3b471a",
   "metadata": {},
   "outputs": [],
   "source": [
    "from nltk.stem.snowball import SnowballStemmer"
   ]
  },
  {
   "cell_type": "markdown",
   "id": "f3fe6fdb",
   "metadata": {},
   "source": [
    "* we define the stemmer object. Here, in addition to PorterStemmer, we can also choose in which language we will stemming in SnowballStemmer."
   ]
  },
  {
   "cell_type": "code",
   "execution_count": 4,
   "id": "fa6e5c7d",
   "metadata": {},
   "outputs": [
    {
     "data": {
      "text/plain": [
       "'civil'"
      ]
     },
     "execution_count": 4,
     "metadata": {},
     "output_type": "execute_result"
    }
   ],
   "source": [
    "stemmer = SnowballStemmer(language = \"english\")\n",
    "word = \"civilization\"\n",
    "stemmer.stem(word)"
   ]
  }
 ],
 "metadata": {
  "kernelspec": {
   "display_name": "Python 3 (ipykernel)",
   "language": "python",
   "name": "python3"
  },
  "language_info": {
   "codemirror_mode": {
    "name": "ipython",
    "version": 3
   },
   "file_extension": ".py",
   "mimetype": "text/x-python",
   "name": "python",
   "nbconvert_exporter": "python",
   "pygments_lexer": "ipython3",
   "version": "3.8.10"
  }
 },
 "nbformat": 4,
 "nbformat_minor": 5
}
