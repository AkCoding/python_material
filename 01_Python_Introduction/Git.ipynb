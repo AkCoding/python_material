{
 "cells": [
  {
   "cell_type": "markdown",
   "id": "2bef37d6",
   "metadata": {},
   "source": [
    "<div class=\"text\"><p><strong>Highlights of the article:</strong>&nbsp;&nbsp;</p><ol><li>Introduction to Git</li><li>Git Repository Structure</li><li>Github</li><li>Accessing Github central repository via HTTPS or ssh</li><li>Working with git – Important Git commands</li></ol><h3><strong>Introduction to Git</strong></h3><p>For installation purposes on ubuntu, you can refer to this article: <a href=\"https://www.geeksforgeeks.org/how-to-install-configure-and-use-git-on-ubuntu/\">How to Install, Configure and Use GIT on Ubuntu?</a>&nbsp;</p><div id=\"GFG_AD_gfg_mobile_336x280\"></div><p>Git is a distributed version control system. So, <strong>What is a Version Control System?&nbsp;</strong></p><p>A version Control system is a system that maintains different versions of your project when we work in a team or as an individual. (system managing changes to files) As the project progresses, new features get added to it. So,&nbsp;a version control system maintains all the different versions of your project for you and you can roll back to any version you want without causing any trouble to you for maintaining different versions by giving names to it like MyProject, MyProjectWithFeature1, etc.&nbsp;</p><div id=\"_GFG_ABP_Incontent_728x90\" style=\"text-align:center\"><iframe src=\"https://aa.geeksforgeeks.org/iframe.html?code=GFG_ABP_Incontent_728x90\" style=\"width: 748px; height: 110px;\"></iframe></div><div id=\"GFG_AD_Desktop_InContent_ATF_336x280\"></div><p>Distributed Version control system means every collaborator(any developer working on a team project)has a local repository of the project in his/her local machine unlike central where team members should have an internet connection to every time update their work to the main central repository.&nbsp;</p><p>So, by distributed we mean: the project is distributed.&nbsp;A repository is an area that keeps all your project files, images, etc.&nbsp;In terms of Github: different versions of projects correspond to commits.&nbsp;<br>For more details on introduction to Github, you can refer: <a href=\"https://www.geeksforgeeks.org/introduction-to-github/\">Introduction to Github</a>&nbsp;</p><h3><strong>Git Repository Structure</strong></h3><p>It consists of 4 parts:&nbsp;&nbsp;</p><div class=\"inArticleAds\"></div><ol><li><strong>Working directory:</strong> This is your local directory where you make the project (write code) and make changes to it.</li><li><strong>Staging Area (or index):</strong> this is an area where you first need to put your project before committing. This is used for code review by other team members.</li><li><strong>Local Repository:</strong> this is your local repository where you commit changes to the&nbsp;project before pushing them to the central repository on Github. This is what is provided by the distributed version control system. This corresponds to the .git folder in our directory.</li><li><strong>Central Repository: </strong>This is the main project on the central server, a copy of which&nbsp;is with every team member as a local repository.</li></ol><p>All the repository structure is internal to Git and is transparent to the developer.&nbsp;</p><p><strong>Some commands which relate to repository structure:</strong>&nbsp;&nbsp;</p><pre>// transfers your project from working directory\n",
    "// to staging area.\n",
    "<strong>git add .</strong>\n",
    "\n",
    "// transfers your project from staging area to \n",
    "// Local Repository.\n",
    "<strong>git commit -m \"your message here\"</strong>\n",
    "\n",
    "\n",
    "// transfers project from local to central repository.\n",
    "// (requires internet)\n",
    "<strong>git push</strong></pre><h3>Github</h3><p>Github basically is a for-profit company owned by Microsoft, which hosts Git repositories online. It helps users share their git repository online, with other users, or access it remotely. You can also host a public repository for free on Github.&nbsp;</p><p>User share their repository online for various reasons including but not limited to project deployment, project sharing, open source contribution, helping out the community and many such.</p><h3><strong>Accessing </strong>Github<strong> central repository via HTTPS or SSH</strong></h3><p>Here, transfer project means transfer changes as git is very lightweight and works on changes in a project. It internally does the transfer by using Lossless Compression Techniques and transferring compressed files. Https is the default way to access Github central repository.&nbsp;&nbsp;</p><ul><li><strong>By git remote add origin http_url: </strong>remote means the remote central repository. Origin corresponds to your central repository which you need to define (hereby giving HTTPS URL) in order to push changes to Github.</li><li><strong>Via SSH: </strong>connect to Linux or other servers remotely.</li></ul><p>If you access Github by ssh you don’t need to type your username and password every time you push changes to GitHub.&nbsp;</p><div id=\"GFG_AD_gfg_outstream_incontent\"></div><p><strong>Terminal commands:</strong>&nbsp;</p><pre>ssh-keygen -t rsa -b 4096 -C \"your_email@example.com\"\n",
    "This does the ssh key generation using RSA cryptographic algorithm.\n",
    "\n",
    "eval \"$(ssh-agent -s)\" -&gt; enable information about local login session.\n",
    "\n",
    "ssh-add ~/.ssh/id_rsa -&gt; add to ssh key.\n",
    "cat ~/.ssh/id_rsa (use .pub file if not able to connect)\n",
    "add this ssh key to github.\n",
    "\n",
    "\n",
    "Now, go to github settings -&gt; new ssh key -&gt; create key\n",
    "\n",
    "ssh -T git@github.com -&gt; activate ssh key (test connection)\n",
    "\n",
    "Refresh your github Page.</pre><h3><strong>Working with git – Important Git commands</strong>&nbsp;</h3><p><strong>Git user configuration (First Step)</strong>&nbsp;&nbsp;</p><pre>git --version (to check git version)\n",
    "git config --global user.name \"your name here\"\n",
    "git config --global user.email \"your email here\"</pre><p>These are the information attached to commits.&nbsp;&nbsp;</p><p><strong>Initialize directory</strong>&nbsp;</p><pre>git init </pre><p>initializes your directory to work with git and makes a local repository. .git folder is made (OR)&nbsp;</p><pre>git clone http_url </pre><p>This is done if we have an existing git repository and we want to copy its content to a new place.</p><p><strong>Connecting to the remote</strong> <strong>repository&nbsp;</strong></p><pre>git remote add origin http_url/ssh_url </pre><p>connect to the central repo to push/pull. pull means adopting the changes on the remote repository to your local repository. push merges the changes from your local repository to the remote repository.&nbsp;&nbsp;</p><pre>git pull origin master</pre><p>One should always first pull contents from the central repo before pushing so that you are updated with other team members’ work.&nbsp;It helps prevent merge conflicts. Here, master means the master branch (in Git).&nbsp;&nbsp;</p><p><strong>Stash Area in git</strong></p><div style=\"text-align:center;margin:20px 0\" id=\"GFG_AD_gfg_outstream_incontent\"></div><pre>git stash</pre><p>Whichever files are present in the staging area, it will move that files to stash before committing it.&nbsp;</p><pre>git stash pop</pre><p>Whenever we want files for commit from stash we should use this command.</p><pre>git stash clear</pre><p>By doing this, all files from stash area is been deleted.</p><p><strong>Steps to add a file to a remote Repository:</strong>&nbsp;</p><p>First, your file is in your working directory, Move it to the staging area by typing:&nbsp;&nbsp;</p><pre>git add -A (for all files and folders)\n",
    "#To add all files only in the current directory\n",
    "git add .</pre><p><strong>git status: </strong>here, untracked files mean files that you haven’t added to the staging area. Changes are not staged for commit means you have staged the file earlier than you have made changes in that files in your working directory and the changes need to be staged once more.&nbsp;Changes ready to be committed: these are files that have been committed and are ready to be pushed to the central repository.&nbsp;&nbsp;</p><pre>git commit -a -m \"message for commit\"\n",
    "-a: commit all files and for files that have been \n",
    "     staged earlier need not to be git add once more\n",
    "-a option does that automatically.</pre><pre>git push origin master -&gt; pushes your files to \n",
    "                         github master branch\n",
    "git push origin anyOtherBranch -&gt; pushes any \n",
    "                      other branch to github.\n",
    "git log ; to see all your commits</pre><pre>git checkout commitObject(first 8 bits) file.txt-&gt; \n",
    "revert back to this previous commit for file file.txt</pre><p>Previous commits m=ight be seen through the git log command.&nbsp;</p><pre>HEAD -&gt; pointer to our latest commit.&nbsp; </pre><p><strong>Ignoring files while committing</strong></p><p>In many cases, the project creates a lot of logs and other irrelevant files which are to be ignored. So to ignore those files, we have to put their names in<strong>“.gitignore”</strong> file.&nbsp;&nbsp;</p><pre>touch .gitignore\n",
    "echo \"filename.ext\" &gt;&gt;.gitignore\n",
    "#to ignore all files with .log extension\n",
    "echo \"*.log\" &gt; .gitignore</pre><p>Now the filenames written in the .gitignore file would be ignored while pushing a new commit.&nbsp;To get the changes between commits, commit, and working tree.&nbsp;</p><div style=\"text-align:center;margin:20px 0\" id=\"GFG_AD_gfg_outstream_incontent\"></div><pre>git diff</pre><p>‘git diff’ command compares the staging area with the working directory and tells us the changes made. It compares the earlier information as well as the current modified information.&nbsp;</p><p><strong>Branching in Git</strong>&nbsp;</p><pre>create branch -&gt;\n",
    "git branch myBranch\n",
    "or\n",
    "git checkout -b myBranch -&gt; make and switch to the \n",
    "                                  branch myBranch</pre><p>Do the work in your branch.&nbsp;Then,&nbsp;</p><pre>git checkout master ; to switch back to master branch</pre><p>Now,&nbsp; merge contents with your myBranch By:&nbsp;</p><pre>git merge myBranch (writing in master branch)</pre><p>This merger makes a new commit.&nbsp;</p><p><strong>Another way</strong>&nbsp;</p><pre>git rebase myBranch</pre><p>This merges the branch with the master in a serial fashion. Now,&nbsp;&nbsp;</p><pre>git push origin master</pre><h3>Contributing to Open Source</h3><p>Open Source might be considered as a way where user across the globe may share their opinions, customizations or work together to solve an issue or to complete the desired project together. Many companies host there repositories online on Github to allow access to developers to make changes to their product. Some companies(not necessarily all) rewards their contributors in different ways.</p><p>You can contribute to any open source project on Github by forking it, making desired changes to the forked repository, and then opening a pull request. The project owner will review your project and will ask to improve it or will merge it.&nbsp;</p></div></div></div>"
   ]
  },
  {
   "cell_type": "markdown",
   "id": "0c749bbe",
   "metadata": {},
   "source": [
    "<div class=\"text\"><p><a href=\"https://www.geeksforgeeks.org/ultimate-guide-git-github/\">Github</a> is a distributed version control system that helps to manage the repositories.&nbsp;</p><p>These are a list of few commands that you can use frequently on Github(git bash)&nbsp;</p><div id=\"GFG_AD_gfg_mobile_336x280\"></div><pre>1.git help</pre><p>Take help from github help section for different commands and other errors.&nbsp;&nbsp;</p><pre>2.git config</pre><p>To set the basic configurations on github like your name and email.&nbsp;&nbsp;</p><div id=\"_GFG_ABP_Incontent_728x90\" style=\"text-align:center\"><iframe src=\"https://aa.geeksforgeeks.org/iframe.html?code=GFG_ABP_Incontent_728x90\" style=\"width: 748px; height: 110px;\"></iframe></div><div id=\"GFG_AD_Desktop_InContent_ATF_336x280\"></div><pre>3.git config –-global user.name “Ashish Madaan”</pre><p>Sets configuration values for your user name on git.&nbsp;</p><pre>4.git config –-global user.email ashishmadaan6@gmail.com</pre><p>Sets configuration values for your user email on git.&nbsp;&nbsp;</p><pre>5.git config –-global color.ui true</pre><p>To see different colours on command line for different outputs.&nbsp;&nbsp;</p><div class=\"inArticleAds\"></div><pre>6.mkdir store</pre><p>Create a directory if not created initially.&nbsp;</p><pre>7.cd store</pre><p>To go inside the directory and work upon its contents.&nbsp;&nbsp;</p><pre>8.git init</pre><p>To create a local git repository for us in our store folder.This will help to manage the git commands for that particular repository.&nbsp;&nbsp;</p><pre>9.git status</pre><p>To see whats changed since last commit.It shows all the files that have been added and modified and ready to be committed and files which are untracked.&nbsp;&nbsp;</p><pre>10.git add Readme.txt</pre><p>To add a file Readme.txt to the staging area to track its changes.&nbsp;&nbsp;</p><pre>11.git commit -m “Created a Readme.txt”</pre><p>To commit our changes(taking a snapshot) and providing a message to remember for future reference.&nbsp;</p><div id=\"GFG_AD_gfg_outstream_incontent\"></div><pre>12.git log</pre><p>To check the history of commits for our reference.&nbsp;</p><p><strong>Different ways to use add command:&nbsp;</strong>&nbsp;</p><pre>13.git add</pre><p>To add a specific list of files to staging area.&nbsp;&nbsp;</p><pre>14.git add --all</pre><p>To add all files of current directory to staging area.&nbsp;</p><pre>15.git add *.txt</pre><p>To add all text files of the current directory to staging area.&nbsp;&nbsp;</p><pre>16.git add docs/*.txt</pre><p>To add all text files of a particular directory(docs) to staging area.&nbsp;</p><pre>17.git add docs/</pre><p>To add all files in a particular directory(docs) to staging area.&nbsp;&nbsp;</p><pre>18.git add “*.txt”</pre><p>To add text files of entire project to staging area.&nbsp;</p><h3><strong>More Commands:</strong>&nbsp;&nbsp;</h3><pre>19.git diff</pre><p>To figure out what changes you made since last commit.&nbsp;&nbsp;</p><pre>20.git reset head license</pre><p>To undo staging of the file that was added in the staging area.&nbsp;&nbsp;</p><div style=\"text-align:center;margin:20px 0\" id=\"GFG_AD_gfg_outstream_incontent\"></div><pre>21.git checkout –license</pre><p>To Blow away all changes since the last commit of the file.&nbsp;&nbsp;</p><pre>22.git commit -a -m “Readme.md”</pre><p>To add any of our tracked files to staging area and commit them by providing a message to remember.&nbsp;&nbsp;</p><pre>23.git reset –soft HEAD^</pre><p>To undo last commit and bring file to staging area.&nbsp;&nbsp;</p><pre>24.git reset –hard HEAD^</pre><p>To undo last commit and remove file from the staging area as well(In case we went horribly wrong).&nbsp;</p><pre>25.git reset –hard HEAD^^</pre><p>To undo last 2 commits and all changes.&nbsp;&nbsp;</p><pre>26.git remote add origin https://github.com/madaan123/MyAlgorithms.git</pre><p>This commands make a bookmark which signifies that this particular remote refers to this URL.&nbsp;This remote will be used to pull any content from the directory and push our local content to the global server.&nbsp;&nbsp;</p><pre>27.git remote add &lt;address&gt;&nbsp;</pre><p>To add new remotes to our local repository for a particular git address.&nbsp;&nbsp;</p><pre>28.git remove rm</pre><p>To remove a remote from our local repository.&nbsp;&nbsp;</p><pre>29.git push -u origin master</pre><p>To push all the contents of our local repository that belong to master branch to the server(Global repository).&nbsp;</p><pre>30.git clone https://github.com/madaan123/MyAlgorithms.git</pre><p>To clone or make a local copy of the global repository in your system&nbsp;<br>(git clone command downloads the repository and creates a remote named as origin which can be checked by command – git remote -v).&nbsp;&nbsp;</p><div style=\"text-align:center;margin:20px 0\" id=\"GFG_AD_gfg_outstream_incontent\"></div><pre>31.git branch Testing</pre><p>To create a new branch named as Testing.&nbsp;&nbsp;</p><pre>32.git branch</pre><p>To see all the branches present and current branch that we are working on.&nbsp;&nbsp;</p><pre>33.git checkout Testing</pre><p>To switch to branch Testing from master branch.&nbsp;</p><pre>34.ls</pre><p>To see directories and files in the current directory.&nbsp;&nbsp;</p><pre>35.ls -la</pre><p>To see hidden directories and files with in the current directory.&nbsp;</p><pre>36.git merge Testing</pre><p>To merge Testing branch with master branch.&nbsp;&nbsp;</p><pre>37.git branch -d Testing</pre><p>To delete Testing branch.&nbsp;&nbsp;</p><pre>38.git checkout -b admin</pre><p>To create a new branch admin and set it as current branch.&nbsp;&nbsp;</p><pre>39.git branch -r</pre><p>To look at all the remote branches.&nbsp;&nbsp;</p><pre>40.git branch -D Testing</pre><p>To forcefully delete a branch without making commits.&nbsp;&nbsp;</p><div style=\"text-align:center;margin:20px 0\" id=\"GFG_AD_gfg_outstream_incontent\"></div><pre>41.git tag</pre><p>To see the list of available tags.&nbsp;</p><pre>42.git checkout v0.0.1</pre><p>To set the current tag to v0.0.1.&nbsp;<br>&nbsp;</p><pre>43.git tag -a v0.0.3 -m “version 0.0.3”</pre><p>To create a new tag.&nbsp;</p><pre>44.git push –tags</pre><p>To push the tags to remote repository.&nbsp;</p><pre>45.git fetch</pre><p>To fetch down any changes from global repository to current repository&nbsp;.</p><pre>46.git stash </pre><p>To move staged files to stash area which are present in staging area.</p><pre>47.git stash pop</pre><p>To get back the files which are present in stash area.</p><pre>48.git stash clear</pre><p>To clear the stash folder.</p><pre>49.git rebase</pre><p>Three tasks are performed by git rebase&nbsp;</p><ol><li>Move all changes to master which are not in origin/master to a temporary area.</li><li>Run all origin master commits.</li><li>Run all commits in the temporary area on top of our master one at a time, so it avoids merge commits.</li></ol></div></div></div></div>"
   ]
  },
  {
   "cell_type": "code",
   "execution_count": null,
   "id": "2de9f862",
   "metadata": {},
   "outputs": [],
   "source": []
  },
  {
   "cell_type": "code",
   "execution_count": null,
   "id": "2a682ecc",
   "metadata": {},
   "outputs": [],
   "source": []
  },
  {
   "cell_type": "code",
   "execution_count": null,
   "id": "abed1194",
   "metadata": {},
   "outputs": [],
   "source": []
  },
  {
   "cell_type": "code",
   "execution_count": null,
   "id": "ae045aa3",
   "metadata": {},
   "outputs": [],
   "source": []
  },
  {
   "cell_type": "code",
   "execution_count": null,
   "id": "b2390f4b",
   "metadata": {},
   "outputs": [],
   "source": []
  },
  {
   "cell_type": "code",
   "execution_count": null,
   "id": "4bb9c267",
   "metadata": {},
   "outputs": [],
   "source": []
  }
 ],
 "metadata": {
  "kernelspec": {
   "display_name": "Python 3 (ipykernel)",
   "language": "python",
   "name": "python3"
  },
  "language_info": {
   "codemirror_mode": {
    "name": "ipython",
    "version": 3
   },
   "file_extension": ".py",
   "mimetype": "text/x-python",
   "name": "python",
   "nbconvert_exporter": "python",
   "pygments_lexer": "ipython3",
   "version": "3.8.10"
  }
 },
 "nbformat": 4,
 "nbformat_minor": 5
}
