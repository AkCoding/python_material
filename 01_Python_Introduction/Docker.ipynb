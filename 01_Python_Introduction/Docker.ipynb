{
 "cells": [
  {
   "cell_type": "markdown",
   "id": "266b537e",
   "metadata": {},
   "source": [
    "<article class=\"content post-438188 post type-post status-publish format-standard hentry category-computer-subject category-guestblogs\" id=\"post-438188\"><div style=\"position:relative\"><div class=\"article-title\"><h1>Introduction to Docker</h1>\n",
    "<button data-gfg-action=\"bookmark-article\" data-bookmark-value=\"0\">\n",
    "<i class=\"gfg-icon gfg-icon_bookmark\"></i></button></div></div></div><div class=\"text\"><p>Docker is a set of platforms as a service (PaaS) products that use the Operating system level visualization to deliver software in packages called containers. Containers are isolated from one another and bundle their own software, libraries, and configuration files; they can communicate with each other through well-defined channels. All containers are run by a single operating system kernel and therefore use fewer resources than a virtual machine.</p><h3>Difference between Docker Containers and Virtual&nbsp;Machines</h3><h4>1. Docker Containers</h4><ul><li>Docker Containers contain binaries, libraries, and configuration files along with the application itself.</li><li>They don’t contain a guest OS for each container and rely on the underlying OS kernel, which makes the containers lightweight.</li><li>Containers share resources with other containers in the same host OS and provide OS-level process isolation.</li></ul><h4>2. Virtual&nbsp;Machines</h4><ul><li>Virtual Machines (VMs) run on Hypervisors, which allow multiple Virtual Machines to run on a single machine along with its own operating system.</li><li>Each VM has its own copy of an operating system along with the application and necessary binaries, which makes it significantly larger and it requires more resources.</li><li>They provide Hardware-level process isolation and are slow to boot.</li></ul><h3>Important Terminologies in Docker&nbsp;</h3><h4>1. Docker&nbsp;Image</h4><ul><li>It is a file, comprised of multiple layers, used to execute code in a Docker container.</li><li>They are a set of instructions used to create docker containers.</li></ul><h4>2. Docker Container</h4><ul><li>It is a runtime instance of an image.</li><li>Allows developers to package applications with all parts needed such as libraries and other dependencies.</li></ul><h4>3. Docker&nbsp;file</h4><ul><li>It is a text document that contains necessary commands which on execution helps assemble a Docker Image.</li><li>Docker image is created using a Docker file.</li></ul><h4>4. Docker&nbsp;Engine</h4><ul><li>The software that hosts the containers is named Docker Engine.</li><li>Docker Engine is a client-server based application</li><li>The docker engine has <strong>3 main</strong> components:<ul><li><strong>Server</strong>: It is responsible for creating and managing Docker images, containers, networks, and volumes on the Docker. It is referred to as a daemon process.</li><li><strong>REST API</strong>: It specifies how the applications can interact with the Server and instructs it what to do.</li><li><strong>Client</strong>: The Client is a docker command-line interface (CLI), that allows us to interact with Docker using the docker commands.</li></ul></li></ul><h4>5. Docker Hub</h4><ul><li>Docker Hub is the official online repository where you can find other Docker Images that are available for use.</li><li>It makes it easy to find, manage, and share container images with others.</li></ul><h3 style=\"text-align:center\"><strong>Installing Docker on&nbsp;Ubuntu</strong></h3><h4>1. Remove old version of&nbsp;Docker</h4><pre>$ sudo apt-get remove docker docker-engine docker.io containerd runc</pre><h4>2. Installing Docker&nbsp;Engine</h4><pre>$ sudo apt-get update\n",
    " \n",
    "$ sudo apt-get install \\\n",
    "    ca-certificates \\\n",
    "    curl \\\n",
    "    gnupg \\\n",
    "    lsb-release\n",
    "\n",
    "$ sudo mkdir -p /etc/apt/keyrings\n",
    "$ curl -fsSL https://download.docker.com/linux/ubuntu/gpg | sudo gpg --dearmor -o /etc/apt/keyrings/docker.gpg\n",
    "\n",
    "$ echo \\\n",
    "  \"deb [arch=$(dpkg --print-architecture) signed-by=/etc/apt/keyrings/docker.gpg] https://download.docker.com/linux/ubuntu \\\n",
    "  $(lsb_release -cs) stable\" | sudo tee /etc/apt/sources.list.d/docker.list &gt; /dev/null\n",
    "  \n",
    "$ sudo apt-get update\n",
    "$ sudo apt-get install docker-ce docker-ce-cli containerd.io docker-compose-plugin\n",
    "\n",
    "$ sudo groupadd docker\n",
    "$ sudo usermod -aG docker $USER</pre><p>Check if docker is successfully installed in your system</p><div id=\"GFG_AD_gfg_mobile_336x280\"></div><pre>$ sudo docker run hello-world</pre><h3 style=\"text-align:center\">Create an application in&nbsp;Docker</h3><h4>1. Create a folder with 2 files (Dockerfile and main.py file) in&nbsp;it.</h4><ul><li>Dockerfile</li><li>main.py</li></ul><h4>2. Edit main.py with the below&nbsp;code.</h4><div class=\"noIdeBtnDiv\"><div class=\"responsive-tabs-wrapper\"><div class=\"responsive-tabs responsive-tabs--enabled\"><ul class=\"responsive-tabs__list\" role=\"tablist\"><li class=\"responsive-tabs__list__item responsive-tabs__list__item--active\" id=\"tablist1-tab1\" aria-controls=\"tablist1-panel1\" role=\"tab\" tabindex=\"0\">Python3</li></ul><h2 class=\"tabtitle responsive-tabs__heading responsive-tabs__heading--active\" tabindex=\"0\">Python3</h2><div class=\"tabcontent responsive-tabs__panel responsive-tabs__panel--active\" aria-hidden=\"false\" role=\"tabpanel\" aria-labelledby=\"tablist1-tab1\" id=\"tablist1-panel1\"><p></p><div class=\"code-block\"><div class=\"code-gutter\"><div class=\"editor-buttons-container\"><div class=\"editor-buttons\"><div class=\"editor-buttons-div\" title=\"Run and Edit\"><i id=\"copy-code-button\" title=\"Copy Code\" class=\"gfg-icon gfg-icon_copy code-sidebar-button padding-2px copy-code-button\"></i><p></p><div id=\"run-and-edit-loader\" class=\"ring-load\"></div><p><i id=\"run-and-edit-button\" title=\"Edit Code\" lang=\"python3\" class=\"gfg-icon gfg-icon_edit_1 padding-2px code-sidebar-button\"></i><br><i id=\"close-code-editor-button\" title=\"Close Editor\" class=\"gfg-icon gfg-icon_close-editor padding-2px code-sidebar-button close-code-editor-button\"></i></p><div id=\"run-code-loader\" class=\"ring-load\"></div><p><i id=\"run-code-button\" lang=\"python3\" title=\"Run Code and See Output\" class=\"gfg-icon gfg-icon_play padding-2px code-sidebar-button\"></i></p><div id=\"generate-url-loader\" class=\"ring-load\"></div><p><i id=\"generate-url-and-run-button\" title=\"Run Code and Generate IDE URL\" lang=\"python3\" class=\"gfg-icon gfg-icon_link padding-2px code-sidebar-button generate-url-and-run-button\"></i><br><i title=\"Light Mode\" class=\"gfg-icon padding-2px code-sidebar-button light-editor-button gfg-icon_light-toggle\"></i><br><i id=\"edit-on-ide-button\" title=\"Edit on IDE\" lang=\"python3\" class=\"gfg-icon gfg-icon_code padding-2px code-sidebar-button edit-on-ide-button\"></i></p></div><p></p></div><p></p></div><p></p></div><div class=\"code-container\"><div id=\"highlighter_870027\" class=\"syntaxhighlighter nogutter night\"><table border=\"0\" cellpadding=\"0\" cellspacing=\"0\"><tbody><tr><td class=\"code\"><div class=\"container\"><div class=\"line number1 index0 alt2\"><code class=\"comments\">#!/usr/bin/env python3</code></div><div class=\"line number2 index1 alt1\">&nbsp;</div><div class=\"line number3 index2 alt2\"><code class=\"functions\">print</code><code class=\"plain\">(</code><code class=\"string\">\"Docker and GFG rock!\"</code><code class=\"plain\">)</code></div></div></td></tr></tbody></table></div></div><div class=\"code-editor-container\"></div><p></p></div><div class=\"code-output-container\"><div class=\"output-block\"><i id=\"output-icon\" title=\"Output\" class=\"gfg-icon gfg-icon_arrow-right-editor padding-2px code-sidebar-button output-icon\"></i><p></p><pre class=\"output-pre\"></pre><p></p></div><div class=\"ide-link-div\"><i id=\"copy-url-button\" title=\"Copy Generated Ide URL\" class=\"gfg-icon gfg-icon_copy padding-2px code-sidebar-button copy-url-button\"></i><p></p><pre id=\"ide-url\"></pre><p></p></div><p></p></div></div></div></div></div><h4>3. Edit Dockerfile with the below commands.</h4><pre>FROM python:latest\n",
    "COPY main.py /\n",
    "CMD [ \"python\", \"./main.py\" ]</pre><h4>4. Create a Docker&nbsp;image.</h4><p>Once you have created and edited the main.py file and the Dockerfile, create your image to contain your application.</p><div id=\"_GFG_ABP_Incontent_728x90\" style=\"text-align:center\"><iframe src=\"https://aa.geeksforgeeks.org/iframe.html?code=GFG_ABP_Incontent_728x90\" style=\"width: 748px; height: 110px;\"></iframe></div><div id=\"GFG_AD_Desktop_InContent_ATF_336x280\"></div><pre>$ docker build -t python-test .</pre><p>The ‘-t’ option allows to define the name of your image. ‘python-test’ is the name we have chosen for the image.</p><h4>5. Run the Docker&nbsp;image</h4><p>Once the image is created, your code is ready to launch.</p><pre>$ docker run python-test</pre><h3 style=\"text-align:center\">Push an image to Docker&nbsp;Hub</h3><p><strong>1.</strong> Create an Account on Docker&nbsp;Hub.</p><div class=\"inArticleAds\"></div><p><strong>2.</strong> Click on the “Create Repository” button, put the name of the file, and click on “Create”.</p><p><strong>3.</strong> Now will “tag our image” and “push it to the Docker Hub repository” which we just&nbsp;created.</p><p>Now, run the below command to list docker images:</p><pre>$ docker images</pre><p>The above will give us this result</p><pre>REPOSITORY TAG IMAGE_ID CREATED SIZE afrozchakure/python-test latest c7857f97ebbd 2 hours ago 933MB</pre><p>Image ID is used to tag the image. The syntax to tag the image is:</p><pre>docker tag &lt;image-id&gt; &lt;your dockerhub username&gt;/python-test:latest\n",
    "$ docker tag c7857f97ebbd afrozchakure/python-test:latest</pre><p><strong>4. </strong>Push image to Docker Hub repository</p><pre>$ docker push afrozchakure/python-test</pre><h3 style=\"text-align:center\">Fetch and run the image from Docker&nbsp;Hub</h3><p><strong>1. </strong>To remove all versions of a particular image from our local system, we use the Image ID for it.</p><pre>$ docker rmi -f af939ee31fdc</pre><p><strong>2. </strong>Now run the image, it will fetch the image from the docker hub if it doesn’t exist on your local machine.</p><pre>$ docker run afrozchakure/python-test</pre><div class=\"practice-content\" id=\"practice-tab-content\" style=\"min-height:800px\" hidden=\"\"></div><div style=\"height:100%\" class=\"comment-section\" hidden=\"\"><div id=\"login-link\" style=\"text-align:center;padding:10px 0 20px 16px\"><h3>Please <u><span class=\"login-modal-btn\" style=\"cursor:pointer;color:#308d46\">Login</span></u> to comment...</h3></div><div style=\"height:100%\"><div style=\"height:100%\" id=\"comment-system\"></div></div></div><div id=\"courses_nav_tab_content\" class=\"courses_nav_tab_content\" style=\"min-height:800px\" hidden=\"\"></div><div id=\"video-tab-content\" class=\"video-tab-content\" style=\"min-height:768px\" hidden=\"\"></div></article>"
   ]
  },
  {
   "cell_type": "code",
   "execution_count": null,
   "id": "74279fb6",
   "metadata": {},
   "outputs": [],
   "source": []
  }
 ],
 "metadata": {
  "kernelspec": {
   "display_name": "Python 3 (ipykernel)",
   "language": "python",
   "name": "python3"
  },
  "language_info": {
   "codemirror_mode": {
    "name": "ipython",
    "version": 3
   },
   "file_extension": ".py",
   "mimetype": "text/x-python",
   "name": "python",
   "nbconvert_exporter": "python",
   "pygments_lexer": "ipython3",
   "version": "3.8.10"
  }
 },
 "nbformat": 4,
 "nbformat_minor": 5
}
