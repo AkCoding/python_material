{
 "cells": [
  {
   "cell_type": "markdown",
   "id": "4e3c88cd",
   "metadata": {},
   "source": [
    "# Python | Build a REST API using Flask"
   ]
  },
  {
   "cell_type": "markdown",
   "id": "eff46dc2",
   "metadata": {},
   "source": [
    "REST stands for REpresentational State Transfer and is an architectural style used in modern web development. It defines a set or rules/constraints for a web application to send and receive data.\n",
    "\n",
    "In this article, we will build a REST API in Python using the Flask framework. Flask is a popular micro framework for building web applications. Since it is a micro-framework, it is very easy to use and lacks most of the advanced functionality which is found in a full-fledged framework. Therefore, building a REST API in Flask is very simple.\n",
    "\n",
    "There are two ways of creating a REST API in Flask:\n",
    "\n"
   ]
  },
  {
   "cell_type": "markdown",
   "id": "3da5afcb",
   "metadata": {},
   "source": [
    "Using Flask without any external libraries\n",
    "Using flask_restful library"
   ]
  },
  {
   "cell_type": "markdown",
   "id": "32d5441a",
   "metadata": {},
   "source": [
    "# Libraries required:"
   ]
  },
  {
   "cell_type": "markdown",
   "id": "ff347b92",
   "metadata": {},
   "source": [
    "flask_restful can be installed via the pip command:"
   ]
  },
  {
   "cell_type": "code",
   "execution_count": null,
   "id": "f317f0f5",
   "metadata": {},
   "outputs": [],
   "source": [
    "!sudo pip3 install flask-restful"
   ]
  },
  {
   "cell_type": "markdown",
   "id": "18e13253",
   "metadata": {},
   "source": [
    "# Method 1: using only Flask"
   ]
  },
  {
   "cell_type": "markdown",
   "id": "52da1420",
   "metadata": {},
   "source": [
    "Here, there are two functions: One function to just return or print the data sent through GET or POST and another function to calculate the square of a number sent through GET request and print it."
   ]
  },
  {
   "cell_type": "code",
   "execution_count": null,
   "id": "9a37949e",
   "metadata": {},
   "outputs": [],
   "source": [
    "# Using flask to make an api\n",
    "# import necessary libraries and functions\n",
    "from flask import Flask, jsonify, request\n",
    "  \n",
    "# creating a Flask app\n",
    "app = Flask(__name__)\n",
    "  \n",
    "# on the terminal type: curl http://127.0.0.1:5000/\n",
    "# returns hello world when we use GET.\n",
    "# returns the data that we send when we use POST.\n",
    "@app.route('/', methods = ['GET', 'POST'])\n",
    "def home():\n",
    "    if(request.method == 'GET'):\n",
    "  \n",
    "        data = \"hello world\"\n",
    "        return jsonify({'data': data})\n",
    "  \n",
    "  \n",
    "# A simple function to calculate the square of a number\n",
    "# the number to be squared is sent in the URL when we use GET\n",
    "# on the terminal type: curl http://127.0.0.1:5000 / home / 10\n",
    "# this returns 100 (square of 10)\n",
    "@app.route('/home/<int:num>', methods = ['GET'])\n",
    "def disp(num):\n",
    "  \n",
    "    return jsonify({'data': num**2})\n",
    "  \n",
    "  \n",
    "# driver function\n",
    "if __name__ == '__main__':\n",
    "  \n",
    "    app.run(debug = True)"
   ]
  },
  {
   "cell_type": "markdown",
   "id": "448432b3",
   "metadata": {},
   "source": [
    "# Method 2: Using flask-restful"
   ]
  },
  {
   "cell_type": "markdown",
   "id": "bff1db33",
   "metadata": {},
   "source": [
    "Flask Restful is an extension for Flask that adds support for building REST APIs in Python using Flask as the back-end. It encourages best practices and is very easy to set up. Flask restful is very easy to pick up if you’re already familiar with flask.\n",
    "\n",
    "In flask_restful, the main building block is a resource. Each resource can have several methods associated with it such as GET, POST, PUT, DELETE, etc. for example, there could be a resource that calculates the square of a number whenever a get request is sent to it. Each resource is a class that inherits from the Resource class of flask_restful. Once the resource is created and defined, we can add our custom resource to the api and specify a URL path for that corresponding resource.\n",
    "\n"
   ]
  },
  {
   "cell_type": "code",
   "execution_count": null,
   "id": "beb9406d",
   "metadata": {},
   "outputs": [],
   "source": [
    "# using flask_restful\n",
    "from flask import Flask, jsonify, request\n",
    "from flask_restful import Resource, Api\n",
    "\n",
    "# creating the flask app\n",
    "app = Flask(__name__)\n",
    "# creating an API object\n",
    "api = Api(app)\n",
    "\n",
    "# making a class for a particular resource\n",
    "# the get, post methods correspond to get and post requests\n",
    "# they are automatically mapped by flask_restful.\n",
    "# other methods include put, delete, etc.\n",
    "class Hello(Resource):\n",
    "\n",
    "\t# corresponds to the GET request.\n",
    "\t# this function is called whenever there\n",
    "\t# is a GET request for this resource\n",
    "\tdef get(self):\n",
    "\n",
    "\t\treturn jsonify({'message': 'hello world'})\n",
    "\n",
    "\t# Corresponds to POST request\n",
    "\tdef post(self):\n",
    "\t\t\n",
    "\t\tdata = request.get_json()\t # status code\n",
    "\t\treturn jsonify({'data': data}), 201\n",
    "\n",
    "\n",
    "# another resource to calculate the square of a number\n",
    "class Square(Resource):\n",
    "\n",
    "\tdef get(self, num):\n",
    "\n",
    "\t\treturn jsonify({'square': num**2})\n",
    "\n",
    "\n",
    "# adding the defined resources along with their corresponding urls\n",
    "api.add_resource(Hello, '/')\n",
    "api.add_resource(Square, '/square/<int:num>')\n",
    "\n",
    "\n",
    "# driver function\n",
    "if __name__ == '__main__':\n",
    "\n",
    "\tapp.run(debug = True)\n"
   ]
  },
  {
   "cell_type": "code",
   "execution_count": null,
   "id": "0c6f252c",
   "metadata": {},
   "outputs": [],
   "source": []
  },
  {
   "cell_type": "code",
   "execution_count": null,
   "id": "dc3d3e2b",
   "metadata": {},
   "outputs": [],
   "source": []
  },
  {
   "cell_type": "code",
   "execution_count": null,
   "id": "e68dbfad",
   "metadata": {},
   "outputs": [],
   "source": []
  },
  {
   "cell_type": "code",
   "execution_count": null,
   "id": "07acb626",
   "metadata": {},
   "outputs": [],
   "source": []
  },
  {
   "cell_type": "code",
   "execution_count": null,
   "id": "cfddd5da",
   "metadata": {},
   "outputs": [],
   "source": []
  },
  {
   "cell_type": "code",
   "execution_count": null,
   "id": "d0e84535",
   "metadata": {},
   "outputs": [],
   "source": []
  },
  {
   "cell_type": "code",
   "execution_count": null,
   "id": "eced9645",
   "metadata": {},
   "outputs": [],
   "source": []
  },
  {
   "cell_type": "code",
   "execution_count": null,
   "id": "f48e695d",
   "metadata": {},
   "outputs": [],
   "source": []
  },
  {
   "cell_type": "code",
   "execution_count": null,
   "id": "055cfe4e",
   "metadata": {},
   "outputs": [],
   "source": []
  }
 ],
 "metadata": {
  "kernelspec": {
   "display_name": "Python 3 (ipykernel)",
   "language": "python",
   "name": "python3"
  },
  "language_info": {
   "codemirror_mode": {
    "name": "ipython",
    "version": 3
   },
   "file_extension": ".py",
   "mimetype": "text/x-python",
   "name": "python",
   "nbconvert_exporter": "python",
   "pygments_lexer": "ipython3",
   "version": "3.8.10"
  }
 },
 "nbformat": 4,
 "nbformat_minor": 5
}
